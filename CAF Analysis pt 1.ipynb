{
 "cells": [
  {
   "cell_type": "markdown",
   "metadata": {},
   "source": [
    "Part 1 of the Civil Asset Forfeiture analysis. This script takes in the raw google form responses from court-watchers and joins them into one dataset, as well as performing some cleaning. \n",
    "\n",
    "After this is run, the next step is to complete the cleaning manually, and then run the script for part 2, which generates summary tables and analyses. \n",
    "\n",
    "Last edited by Sophie Bair 10/26/22"
   ]
  },
  {
   "cell_type": "code",
   "execution_count": null,
   "metadata": {},
   "outputs": [],
   "source": [
    "import numpy as np \n",
    "import pandas as pd\n",
    "import unidecode"
   ]
  },
  {
   "cell_type": "code",
   "execution_count": null,
   "metadata": {},
   "outputs": [],
   "source": [
    "pip install pandoc"
   ]
  },
  {
   "cell_type": "code",
   "execution_count": null,
   "metadata": {},
   "outputs": [],
   "source": [
    "import pandoc"
   ]
  },
  {
   "cell_type": "markdown",
   "metadata": {},
   "source": [
    "# 1. import & join files "
   ]
  },
  {
   "cell_type": "code",
   "execution_count": null,
   "metadata": {},
   "outputs": [],
   "source": [
    "caf1 = pd.read_excel('CIVIL ASSET FORFEITURE - COURT-WATCHING SURVEY (Responses).xlsx')"
   ]
  },
  {
   "cell_type": "code",
   "execution_count": null,
   "metadata": {},
   "outputs": [],
   "source": [
    "caf1.head()"
   ]
  },
  {
   "cell_type": "code",
   "execution_count": null,
   "metadata": {},
   "outputs": [],
   "source": [
    "caf2 = pd.read_excel('II - CIVIL ASSET FORFEITURE - COURT-WATCHING SURVEY (Responses).xlsx')"
   ]
  },
  {
   "cell_type": "code",
   "execution_count": null,
   "metadata": {},
   "outputs": [],
   "source": [
    "caf2.head()"
   ]
  },
  {
   "cell_type": "code",
   "execution_count": null,
   "metadata": {},
   "outputs": [],
   "source": [
    "caf = pd.concat([caf1, caf2])"
   ]
  },
  {
   "cell_type": "code",
   "execution_count": null,
   "metadata": {},
   "outputs": [],
   "source": [
    "caf.head()"
   ]
  },
  {
   "cell_type": "code",
   "execution_count": null,
   "metadata": {},
   "outputs": [],
   "source": [
    "#caf.columns # seeems like no dups "
   ]
  },
  {
   "cell_type": "code",
   "execution_count": null,
   "metadata": {},
   "outputs": [],
   "source": [
    "caf.columns = ['judge_behavior', 'name', 'fine_fee_issues', 'date', 'seized_property_type', 'litigant_race',\n",
    "              'judge_name', 'fee_waiver_filed', 'hardship_exception_requested', 'case_settled_or_resolved',\n",
    "              'zoom_difficulties', 'court_division_district', 'email', 'litigant_gender', 'judge_race',\n",
    "              'seized_property_value', 'atty_present', 'property_description', 'admin_difficulties', \n",
    "              'affiliation', 'courtroom_number', 'judge_gender', 'litigant_understanding', 'more_than_one_asset', \n",
    "              'party', 'jointly_owned_property', 'seizing_entity', 'probable_cause_hearing', 'seizure_reason', \n",
    "              'lienholder_atty_appeared', 'innocent_owners_mention', 'cost_bond_mention', 'isp_district', \n",
    "              'litigant_understanding_explanation', 'fee_waiver_filed_explanation', 'suburban_district', \n",
    "               'jointly_owned_property_explanation', 'fine_fee_issues_explanation', 'more_than_one_asset_explanation', \n",
    "               'case_settled_or_resolved_explanation', 'probable_cause_established', 'zoom_difficulties_explanation', \n",
    "              'admin_difficulties_explanation', 'comments_concerns', 'party_explanation', 'atty_present_explanation', \n",
    "              'timestamp', 'overall_narrative']"
   ]
  },
  {
   "cell_type": "code",
   "execution_count": null,
   "metadata": {},
   "outputs": [],
   "source": [
    "caf.head()"
   ]
  },
  {
   "cell_type": "code",
   "execution_count": null,
   "metadata": {},
   "outputs": [],
   "source": [
    "caf.dtypes"
   ]
  },
  {
   "cell_type": "code",
   "execution_count": null,
   "metadata": {},
   "outputs": [],
   "source": [
    "# create index to uniquely identify cases \n",
    "caf['index_created'] = range(0, len(caf))"
   ]
  },
  {
   "cell_type": "markdown",
   "metadata": {},
   "source": [
    "# 2. Clean demographic/basic case info "
   ]
  },
  {
   "cell_type": "markdown",
   "metadata": {},
   "source": [
    "2a. court-watchers "
   ]
  },
  {
   "cell_type": "code",
   "execution_count": null,
   "metadata": {},
   "outputs": [],
   "source": [
    "caf['name'].value_counts()"
   ]
  },
  {
   "cell_type": "code",
   "execution_count": null,
   "metadata": {
    "scrolled": true
   },
   "outputs": [],
   "source": [
    "# remove spaces and accents + make everything same case \n",
    "caf['name_cleaned'] = caf['name'].apply(lambda x: unidecode.unidecode(x.strip().title()))\n",
    "\n",
    "caf['name_cleaned'] = caf['name_cleaned'].apply(lambda x: 'Shawn Oh' if x in ['Shawn Hyup Oh', 'Shawn H. Oh', 'Shawn Oh'] else x)\n",
    "caf['name_cleaned'] = caf['name_cleaned'].apply(lambda x: 'Ricardo Taboada' if x in ['Ricardo Taboadda'] else x)\n",
    "caf['name_cleaned'] = caf['name_cleaned'].apply(lambda x: 'Alessandra Gomez' if x in ['Alessandra'] else x)\n",
    "caf['name_cleaned'] = caf['name_cleaned'].apply(lambda x: 'Charles Beck' if x in ['Cj Beck'] else x)"
   ]
  },
  {
   "cell_type": "code",
   "execution_count": null,
   "metadata": {},
   "outputs": [],
   "source": [
    "pd.crosstab(index=caf['name_cleaned'], columns='count').sort_values('count', ascending=False)"
   ]
  },
  {
   "cell_type": "markdown",
   "metadata": {},
   "source": [
    "2b. general case info "
   ]
  },
  {
   "cell_type": "code",
   "execution_count": null,
   "metadata": {},
   "outputs": [],
   "source": [
    "# date - verify all in march-august 2022\n",
    "\n",
    "caf['month'] = caf['date'].apply(lambda x: x.month)\n",
    "pd.crosstab(index=caf['month'], columns='count').sort_values('month')"
   ]
  },
  {
   "cell_type": "code",
   "execution_count": null,
   "metadata": {},
   "outputs": [],
   "source": [
    "caf['year'] = caf['date'].apply(lambda x: x.year)\n",
    "pd.crosstab(index=caf['year'], columns='count').sort_values('year')"
   ]
  },
  {
   "cell_type": "code",
   "execution_count": null,
   "metadata": {},
   "outputs": [],
   "source": [
    "# location \n",
    "# pd.crosstab(index=caf['court_division_district'], columns='count').sort_values('count', ascending=False)\n",
    "\n",
    "# not worth cleaning - verified with naomi that all caf cases are in same location "
   ]
  },
  {
   "cell_type": "markdown",
   "metadata": {},
   "source": [
    "2c. judges' info "
   ]
  },
  {
   "cell_type": "code",
   "execution_count": null,
   "metadata": {},
   "outputs": [],
   "source": [
    "# clean name \n",
    "\n",
    "pd.crosstab(index=caf['judge_name'], columns='count').sort_values('count', ascending=False)"
   ]
  },
  {
   "cell_type": "code",
   "execution_count": null,
   "metadata": {},
   "outputs": [],
   "source": [
    "caf['judge_name_cleaned'] = caf['judge_name'].apply(lambda x: 'Nichole Patton' if 'patton' in x.lower()\n",
    "                                   else ('James Carroll' if 'carroll' in x.lower()\n",
    "                                   else ('Paul Karkula' if 'karkula' in x.lower()\n",
    "                                   else x)))\n",
    "pd.crosstab(index=caf['judge_name_cleaned'], columns='count').sort_values('count', ascending=False)"
   ]
  },
  {
   "cell_type": "code",
   "execution_count": null,
   "metadata": {},
   "outputs": [],
   "source": [
    "pd.crosstab(index=caf['judge_name_cleaned'], columns=caf['judge_race'])"
   ]
  },
  {
   "cell_type": "code",
   "execution_count": null,
   "metadata": {},
   "outputs": [],
   "source": [
    "pd.crosstab(index=caf['judge_name_cleaned'], columns=caf['judge_gender'])\n",
    "\n",
    "# some weird variations, but seemingly judge carroll = white man, patton = black female, karkula = white man "
   ]
  },
  {
   "cell_type": "markdown",
   "metadata": {},
   "source": [
    "2d. jurisdiction info "
   ]
  },
  {
   "cell_type": "code",
   "execution_count": null,
   "metadata": {},
   "outputs": [],
   "source": [
    "pd.crosstab(index=caf['suburban_district'], columns='count').sort_values('count', ascending=False)"
   ]
  },
  {
   "cell_type": "code",
   "execution_count": null,
   "metadata": {},
   "outputs": [],
   "source": [
    "caf['suburban_district_cleaned'] = caf['suburban_district'].astype(str).apply(lambda x: 'Schiller Park' if 'Schiller Park' in x\n",
    "                                          else 'Orland Park' if 'Orland Park' in x\n",
    "                                          else 'Unsure' if 'Not certain' in x\n",
    "                                          else 'Tinely park' if 'Tenley' in x\n",
    "                                          else x.replace('Police Department', '').replace(', IL', ''))\n",
    "pd.crosstab(index=caf['suburban_district_cleaned'], columns='count').sort_values('suburban_district_cleaned')"
   ]
  },
  {
   "cell_type": "code",
   "execution_count": null,
   "metadata": {},
   "outputs": [],
   "source": [
    "pd.crosstab(index=caf['isp_district'], columns='count').sort_values('count', ascending=False)"
   ]
  },
  {
   "cell_type": "code",
   "execution_count": null,
   "metadata": {},
   "outputs": [],
   "source": [
    "pd.crosstab(index=caf['isp_district_cleaned'], columns='count').sort_values('count', ascending=False)"
   ]
  },
  {
   "cell_type": "code",
   "execution_count": null,
   "metadata": {},
   "outputs": [],
   "source": [
    "caf['isp_district_cleaned'] = caf['isp_district'].astype(str).apply(lambda x: 'Unsure' if 'not' in x.lower() or 'Unknown' in x or 'unclear' in x or 'Officier' in x else x)\n",
    "pd.crosstab(index=caf['isp_district_cleaned'], columns='count').sort_values('count', ascending=False)"
   ]
  },
  {
   "cell_type": "code",
   "execution_count": null,
   "metadata": {},
   "outputs": [],
   "source": [
    "pd.crosstab(index=caf['seizing_entity'], columns='count').sort_values('count', ascending=False)"
   ]
  },
  {
   "cell_type": "markdown",
   "metadata": {},
   "source": [
    "# 3. clean qualitative/open-ended questions "
   ]
  },
  {
   "cell_type": "markdown",
   "metadata": {},
   "source": [
    "3a. property seized "
   ]
  },
  {
   "cell_type": "code",
   "execution_count": null,
   "metadata": {},
   "outputs": [],
   "source": [
    "caf['seized_property_type_cleaned'] = caf['seized_property_type'].astype(str).apply(lambda x: x.lower().strip())\n",
    "\n",
    "pd.crosstab(index=caf['seized_property_type_cleaned'], columns='count').sort_values('count', ascending=False)"
   ]
  },
  {
   "cell_type": "code",
   "execution_count": null,
   "metadata": {},
   "outputs": [],
   "source": [
    "caf['more_than_one_asset_explanation_cleaned'] = caf['more_than_one_asset_explanation'].astype(str).apply(lambda x: x.lower().strip())\n",
    "\n",
    "pd.crosstab(index=caf['more_than_one_asset_explanation_cleaned'], columns='count').sort_values('count', ascending=False)"
   ]
  },
  {
   "cell_type": "code",
   "execution_count": null,
   "metadata": {},
   "outputs": [],
   "source": [
    "caf['property_description_cleaned'] = caf['property_description'].astype(str).apply(lambda x: x.lower().strip())\n",
    "\n",
    "pd.crosstab(index=caf['property_description_cleaned'], columns='count').sort_values('count', ascending=False)"
   ]
  },
  {
   "cell_type": "code",
   "execution_count": null,
   "metadata": {},
   "outputs": [],
   "source": [
    "# will start coding most common categories here to save some time, but ultimately these will be checked + additional information added manually \n",
    "\n",
    "# if any of these key words are in any of the three columns that relate to property, code as that property type \n",
    "def property_type(df, word_list, result_if_true):\n",
    "    if (any(word in df['seized_property_type_cleaned'] for word in word_list) \n",
    "        or any(word in df['more_than_one_asset_explanation_cleaned'] for word in word_list) \n",
    "        or any(word in df['property_description_cleaned'] for word in word_list)):\n",
    "        return result_if_true\n",
    "    else:\n",
    "        return 0\n",
    "\n",
    "caf['vehicle_seized'] = caf.apply(property_type, axis=1, args=(['car', 'vehicle', 'chevy', 'mercedes'], 1))\n",
    "caf['cash_seized'] = caf.apply(property_type, axis=1, args=(['cash', '$', 'money', 'dollar'], 1))\n",
    "caf['drugs_seized'] = caf.apply(property_type, axis=1, args=(['mj', 'weed', 'cannabis', 'narcotics'], 1))"
   ]
  },
  {
   "cell_type": "code",
   "execution_count": null,
   "metadata": {},
   "outputs": [],
   "source": [
    "# qc \n",
    "#caf.loc[caf['vehicle_seized'] == 1, ][['seized_property_type_cleaned', 'more_than_one_asset_explanation_cleaned', 'property_description_cleaned', 'vehicle_seized']]\n",
    "#caf.loc[caf['cash_seized'] == 1, ][['seized_property_type_cleaned', 'more_than_one_asset_explanation_cleaned', 'property_description_cleaned', 'cash_seized']]\n",
    "#caf.loc[caf['drugs_seized'] == 1, ][['seized_property_type_cleaned', 'more_than_one_asset_explanation_cleaned', 'property_description_cleaned', 'drugs_seized']]"
   ]
  },
  {
   "cell_type": "markdown",
   "metadata": {},
   "source": [
    "3b. property value "
   ]
  },
  {
   "cell_type": "code",
   "execution_count": null,
   "metadata": {},
   "outputs": [],
   "source": [
    "# same note as last time - a lot of these will need to be manually entered and everything will be manually checked\n",
    "caf['seized_property_value_cleaned'] = caf['seized_property_value'].astype(str).apply(lambda x: x.lower().strip())\n",
    "\n",
    "pd.crosstab(index=caf['seized_property_value_cleaned'], columns='count').sort_values('count', ascending=False)"
   ]
  },
  {
   "cell_type": "code",
   "execution_count": null,
   "metadata": {},
   "outputs": [],
   "source": [
    "def clean_value(value):\n",
    "    try: return(int(value))\n",
    "    except: return(np.nan)\n",
    "    \n",
    "caf['seized_property_value_cleaned'] = caf['seized_property_value_cleaned'].apply(clean_value)\n",
    "# caf[['seized_property_value', 'seized_property_value_cleaned']] #qc"
   ]
  },
  {
   "cell_type": "markdown",
   "metadata": {},
   "source": [
    "3c. reason for arrest"
   ]
  },
  {
   "cell_type": "code",
   "execution_count": null,
   "metadata": {},
   "outputs": [],
   "source": [
    "caf['seizure_reason_cleaned'] = caf['seizure_reason'].astype(str).apply(lambda x: 'unknown' if x.lower().strip() in ['not specified', 'not sure', 'unsure', 'unclear', 'nan', 'not explained', 'not mentioned'] else x.lower().strip())\n",
    "\n",
    "pd.crosstab(index=caf['seizure_reason_cleaned'], columns='count').sort_values('count', ascending=False)"
   ]
  },
  {
   "cell_type": "code",
   "execution_count": null,
   "metadata": {},
   "outputs": [],
   "source": [
    "caf['drugs'] = caf['seizure_reason_cleaned'].apply(lambda x: 1 if any(word in x for word in ['narcotics', 'weed', 'marijuana'])  else 0)\n",
    "caf['aggravated_fleeing_eluding']  = caf['seizure_reason_cleaned'].apply(lambda x: 1 if any(word in x for word in ['flee', 'elude', 'fled'])  else 0)\n",
    "caf['dui'] = caf['seizure_reason_cleaned'].apply(lambda x: 1 if any(word in x for word in ['influence', 'dui'])  else 0)\n",
    "caf['driving_without_license'] = caf['seizure_reason_cleaned'].apply(lambda x: 1 if any(word in x for word in ['license'])  else 0)\n",
    "caf['burglary'] = caf['seizure_reason_cleaned'].apply(lambda x: 1 if any(word in x for word in ['burglary', 'burgle'])  else 0)\n",
    "caf['robbery'] = caf['seizure_reason_cleaned'].apply(lambda x: 1 if any(word in x for word in ['robbery'])  else 0)"
   ]
  },
  {
   "cell_type": "code",
   "execution_count": null,
   "metadata": {},
   "outputs": [],
   "source": [
    "# qc\n",
    "# caf.loc[caf['drugs'] == 1, ][['property_seized_cleaned']]"
   ]
  },
  {
   "cell_type": "markdown",
   "metadata": {},
   "source": [
    "# 4. Export for manual clean-up"
   ]
  },
  {
   "cell_type": "code",
   "execution_count": null,
   "metadata": {},
   "outputs": [],
   "source": [
    "caf.to_excel('caf_pt1_output.xlsx')"
   ]
  }
 ],
 "metadata": {
  "kernelspec": {
   "display_name": "Python 3",
   "language": "python",
   "name": "python3"
  },
  "language_info": {
   "codemirror_mode": {
    "name": "ipython",
    "version": 3
   },
   "file_extension": ".py",
   "mimetype": "text/x-python",
   "name": "python",
   "nbconvert_exporter": "python",
   "pygments_lexer": "ipython3",
   "version": "3.7.3"
  }
 },
 "nbformat": 4,
 "nbformat_minor": 2
}
